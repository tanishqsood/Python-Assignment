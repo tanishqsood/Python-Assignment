{
 "cells": [
  {
   "cell_type": "markdown",
   "id": "14eb003b",
   "metadata": {},
   "source": [
    "1. Why are functions advantageous to have in your programs?"
   ]
  },
  {
   "cell_type": "markdown",
   "id": "9cdc9a10",
   "metadata": {},
   "source": [
    "Functions are used to reduce the duplicates code. Also, they help in making codes easy to read and understand and also make them easier to updtae and make them eventually short. \n"
   ]
  },
  {
   "cell_type": "markdown",
   "id": "14e32dc0",
   "metadata": {},
   "source": [
    "2. When does the code in a function run: when it's specified or when it's called?"
   ]
  },
  {
   "cell_type": "markdown",
   "id": "d415b7ee",
   "metadata": {},
   "source": [
    "The code in a function runs/excutes when the function is called. But, not when it is specified. "
   ]
  },
  {
   "cell_type": "markdown",
   "id": "d9bd5cdf",
   "metadata": {},
   "source": [
    "3. What statement creates a function?"
   ]
  },
  {
   "cell_type": "markdown",
   "id": "ca2b9f79",
   "metadata": {},
   "source": [
    "def\tThe keyword that informs Python that a function is being defined."
   ]
  },
  {
   "cell_type": "markdown",
   "id": "f1464a92",
   "metadata": {},
   "source": [
    "4. What is the difference between a function and a function call?"
   ]
  },
  {
   "cell_type": "markdown",
   "id": "144aa311",
   "metadata": {},
   "source": [
    "A function is a block of code that does a particular operation and returns a result. It usually accepts inputs as parameters and returns a result. The parameters are not mandatory. \n",
    "\n",
    "A function call is the code used to pass control to a function."
   ]
  },
  {
   "cell_type": "markdown",
   "id": "28673935",
   "metadata": {},
   "source": [
    "5. 5. How many global scopes are there in a Python program? How many local scopes?"
   ]
  },
  {
   "cell_type": "markdown",
   "id": "e3130632",
   "metadata": {},
   "source": [
    "There’s only one global Python scope per program execution. This scope remains in existence until the program terminates and all its names are forgotten. Otherwise, the next time you were to run the program, the names would remember their values from the previous run.\n",
    "\n",
    "The local scope or function scope is a Python scope created at function calls. Every time we call a function, we’re also creating a new local scope. On the other hand, we can think of each def statement and lambda expression as a blueprint for new local scopes. These local scopes will come into existence whenever we call the function at hand."
   ]
  },
  {
   "cell_type": "markdown",
   "id": "2b404f5b",
   "metadata": {},
   "source": [
    "6. What happens to variables in a local scope when the function call returns?"
   ]
  },
  {
   "cell_type": "markdown",
   "id": "3306f234",
   "metadata": {},
   "source": [
    "A local variable retains its value until the next time the function is called.\n",
    "A local variable becomes undefined after the function call completes.\n",
    "The local variable can be used outside the function any time after the function call completes."
   ]
  },
  {
   "cell_type": "markdown",
   "id": "a8c3f860",
   "metadata": {},
   "source": [
    "7. What is the concept of a return value? Is it possible to have a return value in an expression?"
   ]
  },
  {
   "cell_type": "markdown",
   "id": "ef173163",
   "metadata": {},
   "source": [
    "Python return statement is a function where we can send function result back to caller. It usually consist of keyword which inbuilt function of python return followed by a return value. \n",
    "\n",
    "for eg \n",
    "def test14(a,d,s,w):\n",
    "    return a,d,s,w\n",
    "    \n",
    "test14(1,3,4,6)\n",
    "(1,3,4,6) #printed answer\n"
   ]
  },
  {
   "cell_type": "code",
   "execution_count": 12,
   "id": "5674cb58",
   "metadata": {},
   "outputs": [
    {
     "data": {
      "text/plain": [
       "(1, 3, 4, 6)"
      ]
     },
     "execution_count": 12,
     "metadata": {},
     "output_type": "execute_result"
    }
   ],
   "source": [
    "#for eg \n",
    "def test14(a,d,s,w):\n",
    "    return a,d,s,w\n",
    "    \n",
    "test14(1,3,4,6)"
   ]
  },
  {
   "cell_type": "markdown",
   "id": "7f322620",
   "metadata": {},
   "source": [
    "8. If a function does not have a return statement, what is the return value of a call to that function?"
   ]
  },
  {
   "cell_type": "markdown",
   "id": "875c7607",
   "metadata": {},
   "source": [
    "if a function is without an explicit return statement, or with a return statement without a return value, will return None."
   ]
  },
  {
   "cell_type": "markdown",
   "id": "76ce7c37",
   "metadata": {},
   "source": [
    "9. How do you make a function variable refer to the global variable?"
   ]
  },
  {
   "cell_type": "code",
   "execution_count": null,
   "id": "4e9f97bb",
   "metadata": {},
   "outputs": [],
   "source": [
    "When we creatte a variable outside function then they are called as global variables. Global variables can be used by everyone, outside & inside a function. \n",
    "\n",
    "eg \n"
   ]
  },
  {
   "cell_type": "code",
   "execution_count": 10,
   "id": "933a2879",
   "metadata": {},
   "outputs": [],
   "source": [
    "d = \"is my first programming language \"\n",
    "def test2():\n",
    "    print(\"Python\",d)"
   ]
  },
  {
   "cell_type": "code",
   "execution_count": 11,
   "id": "731db0ea",
   "metadata": {},
   "outputs": [
    {
     "name": "stdout",
     "output_type": "stream",
     "text": [
      "Python is my first programming language \n"
     ]
    }
   ],
   "source": [
    "test2()"
   ]
  },
  {
   "cell_type": "markdown",
   "id": "e70039c5",
   "metadata": {},
   "source": [
    "10. What is the data type of None?"
   ]
  },
  {
   "cell_type": "code",
   "execution_count": 13,
   "id": "152d0d1a",
   "metadata": {},
   "outputs": [
    {
     "name": "stdout",
     "output_type": "stream",
     "text": [
      "printed statement has value of None\n"
     ]
    }
   ],
   "source": [
    "a = None\n",
    "if a is None:\n",
    "    print(\"printed statement has value of None\")\n",
    "else:\n",
    "    print(\"printed statement has other value\")"
   ]
  },
  {
   "cell_type": "markdown",
   "id": "cd6b0c85",
   "metadata": {},
   "source": [
    "None is a special type of data set in Python language, it represents the absence of value. also referd as Null\n",
    "Nonetype data"
   ]
  },
  {
   "cell_type": "markdown",
   "id": "6f81fbaf",
   "metadata": {},
   "source": [
    "11. What does the sentence import areallyourpetsnamederic do?"
   ]
  },
  {
   "cell_type": "markdown",
   "id": "5a4c26df",
   "metadata": {},
   "source": [
    "The statement imports a module name areallyourpetsnamederic"
   ]
  },
  {
   "cell_type": "markdown",
   "id": "daa2e456",
   "metadata": {},
   "source": [
    "12. If you had a bacon() feature in a spam module, what would you call it after importing spam?"
   ]
  },
  {
   "cell_type": "markdown",
   "id": "f6d10aeb",
   "metadata": {},
   "source": [
    "spam.bacon()  will be the function called"
   ]
  },
  {
   "cell_type": "markdown",
   "id": "25c04399",
   "metadata": {},
   "source": [
    "13. What can you do to save a programme from crashing if it encounters an error?"
   ]
  },
  {
   "cell_type": "markdown",
   "id": "077ffa0e",
   "metadata": {},
   "source": [
    "Place the line of code that might cause an error in a try clause."
   ]
  },
  {
   "cell_type": "markdown",
   "id": "8c08233f",
   "metadata": {},
   "source": [
    "14. What is the purpose of the try clause? What is the purpose of the except clause?"
   ]
  },
  {
   "cell_type": "markdown",
   "id": "2be7b7cf",
   "metadata": {},
   "source": [
    "Try clause - the code which has error goes in try clause.\n",
    "Except clause - The code which is excuted if an error occurs goes in except clause."
   ]
  }
 ],
 "metadata": {
  "kernelspec": {
   "display_name": "Python 3 (ipykernel)",
   "language": "python",
   "name": "python3"
  },
  "language_info": {
   "codemirror_mode": {
    "name": "ipython",
    "version": 3
   },
   "file_extension": ".py",
   "mimetype": "text/x-python",
   "name": "python",
   "nbconvert_exporter": "python",
   "pygments_lexer": "ipython3",
   "version": "3.9.12"
  }
 },
 "nbformat": 4,
 "nbformat_minor": 5
}
