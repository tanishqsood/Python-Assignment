{
 "cells": [
  {
   "cell_type": "markdown",
   "id": "6627e930",
   "metadata": {},
   "source": [
    "1. What is the name of the feature responsible for generating Regex objects?"
   ]
  },
  {
   "cell_type": "markdown",
   "id": "4677344d",
   "metadata": {},
   "source": [
    "re.compile() function responsible for Regex objects"
   ]
  },
  {
   "cell_type": "markdown",
   "id": "8dd05eb1",
   "metadata": {},
   "source": [
    "2. Why do raw strings often appear in Regex objects?"
   ]
  },
  {
   "cell_type": "markdown",
   "id": "1003bbfc",
   "metadata": {},
   "source": [
    "Raw strings are used so that backlashes don't have to be escaped"
   ]
  },
  {
   "cell_type": "markdown",
   "id": "d0e3bda1",
   "metadata": {},
   "source": [
    "3. What is the return value of the search() method?"
   ]
  },
  {
   "cell_type": "markdown",
   "id": "c7107981",
   "metadata": {},
   "source": [
    "It returns Match objects."
   ]
  },
  {
   "cell_type": "markdown",
   "id": "26664f7f",
   "metadata": {},
   "source": [
    "4. From a Match item, how do you get the actual strings that match the pattern?"
   ]
  },
  {
   "cell_type": "markdown",
   "id": "1a57c5c5",
   "metadata": {},
   "source": [
    "The group() method returns strings of the matched text."
   ]
  },
  {
   "cell_type": "markdown",
   "id": "f295a89c",
   "metadata": {},
   "source": [
    "5. In the regex which created from the r'(\\d\\d\\d)-(\\d\\d\\d-\\d\\d\\d\\d)'', what does group zero cover?\n",
    "Group 2? Group 1?"
   ]
  },
  {
   "cell_type": "markdown",
   "id": "1182cfa0",
   "metadata": {},
   "source": [
    "Group 0 - Emtire match\n",
    "Group 1 - first set paranthesis\n",
    "group 2 - second set paranthesis"
   ]
  },
  {
   "cell_type": "markdown",
   "id": "58a12b4b",
   "metadata": {},
   "source": [
    "6. In standard expression syntax, parentheses and intervals have distinct meanings. How can you tell\n",
    "a regex that you want it to fit real parentheses and periods?"
   ]
  },
  {
   "cell_type": "markdown",
   "id": "b1299336",
   "metadata": {},
   "source": [
    "they can be escaped with backlash - \\., \\(,and\\)"
   ]
  },
  {
   "cell_type": "code",
   "execution_count": null,
   "id": "6d34ebfa",
   "metadata": {},
   "outputs": [],
   "source": [
    "7. The findall() method returns a string list or a list of string tuples. What causes it to return one of\n",
    "the two options?"
   ]
  },
  {
   "cell_type": "markdown",
   "id": "559ca185",
   "metadata": {},
   "source": [
    "If the regex has no groups, a list of strings is returned. If the regex has groups, a list of tuples of strings is returned."
   ]
  },
  {
   "cell_type": "markdown",
   "id": "2b5e4a87",
   "metadata": {},
   "source": [
    "8. In standard expressions, what does the | character mean?"
   ]
  },
  {
   "cell_type": "markdown",
   "id": "82b357e5",
   "metadata": {},
   "source": [
    "It signifies matching \"either, or\" between two groups"
   ]
  },
  {
   "cell_type": "markdown",
   "id": "4ccd6492",
   "metadata": {},
   "source": [
    "9. In regular expressions, what does the character stand for?"
   ]
  },
  {
   "cell_type": "markdown",
   "id": "93a5ac99",
   "metadata": {},
   "source": [
    "? could mean to signify nongreedy matching or match zero"
   ]
  },
  {
   "cell_type": "markdown",
   "id": "fc6512c0",
   "metadata": {},
   "source": [
    "10.In regular expressions, what is the difference between the + and * characters?"
   ]
  },
  {
   "cell_type": "markdown",
   "id": "a5d89e08",
   "metadata": {},
   "source": [
    "+ character matches one or more\n",
    "* character matches zero or more"
   ]
  },
  {
   "cell_type": "markdown",
   "id": "7148ea11",
   "metadata": {},
   "source": [
    "11. What is the difference between {4} and {4,5} in regular expression?"
   ]
  },
  {
   "cell_type": "code",
   "execution_count": null,
   "id": "c24ae60f",
   "metadata": {},
   "outputs": [],
   "source": [
    "{4} matches exactly 4 instances of the proceeding group.\n",
    "{4,5} matches between 4 & 5 instances."
   ]
  },
  {
   "cell_type": "markdown",
   "id": "570e0b00",
   "metadata": {},
   "source": [
    "12. What do you mean by the \\d, \\w, and \\s shorthand character classes signify in regular\n",
    "expressions?"
   ]
  },
  {
   "cell_type": "code",
   "execution_count": null,
   "id": "8d0656c0",
   "metadata": {},
   "outputs": [],
   "source": [
    "\\d - Shorthand character class for single digit\n",
    "\\w - Shorthand character class for word \n",
    "\\s - Shorthand character class for space "
   ]
  },
  {
   "cell_type": "markdown",
   "id": "8305dae0",
   "metadata": {},
   "source": [
    "13. What do means by \\D, \\W, and \\S shorthand character classes signify in regular expressions?"
   ]
  },
  {
   "cell_type": "code",
   "execution_count": null,
   "id": "fbc57660",
   "metadata": {},
   "outputs": [],
   "source": [
    "\\D - Shorthand character class for not a digit.\n",
    "\\W - Shorthand character class for not space character.\n",
    "\\S - Shorthand character class for not space"
   ]
  },
  {
   "cell_type": "code",
   "execution_count": null,
   "id": "1c09f9f5",
   "metadata": {},
   "outputs": [],
   "source": [
    "14. What is the difference between .*? and .*?"
   ]
  },
  {
   "cell_type": "code",
   "execution_count": null,
   "id": "a3bce291",
   "metadata": {},
   "outputs": [],
   "source": [
    ".* performs a greedy match \n",
    ".*? performs non-greedy match "
   ]
  },
  {
   "cell_type": "markdown",
   "id": "120bb5d8",
   "metadata": {},
   "source": [
    "15. What is the syntax for matching both numbers and lowercase letters with a character class?"
   ]
  },
  {
   "cell_type": "code",
   "execution_count": null,
   "id": "2d2c588c",
   "metadata": {},
   "outputs": [],
   "source": [
    "Either [0-9a-z] or [a-z0-9]"
   ]
  },
  {
   "cell_type": "code",
   "execution_count": null,
   "id": "6a4a0fe0",
   "metadata": {},
   "outputs": [],
   "source": [
    "16. What is the procedure for making a normal expression in regax case insensitive?"
   ]
  },
  {
   "cell_type": "markdown",
   "id": "33d46226",
   "metadata": {},
   "source": [
    "Passing re.I or re.IGNORECASE as the second argument to re.compile() will make the matching case insensitive."
   ]
  },
  {
   "cell_type": "code",
   "execution_count": null,
   "id": "a2b9c639",
   "metadata": {},
   "outputs": [],
   "source": [
    "17. What does the . character normally match? What does it match if re.DOTALL is passed as 2nd\n",
    "argument in re.compile()?"
   ]
  },
  {
   "cell_type": "markdown",
   "id": "3414a04f",
   "metadata": {},
   "source": [
    "The . character normally matches any character except the newline character. If re.DOTALL is passed as the second argument to re.compile(), then the dot will also match newline characters."
   ]
  },
  {
   "cell_type": "markdown",
   "id": "0fd8f358",
   "metadata": {},
   "source": [
    "18. If numReg = re.compile(r'\\d+'), what will numRegex.sub('X', '11 drummers, 10 pipers, five rings, 4\n",
    "hen') return?"
   ]
  },
  {
   "cell_type": "markdown",
   "id": "c7cb1f30",
   "metadata": {},
   "source": [
    "'X drummers, X pipers, five rings, X hens'"
   ]
  },
  {
   "cell_type": "code",
   "execution_count": null,
   "id": "43e4d382",
   "metadata": {},
   "outputs": [],
   "source": [
    "19. What does passing re.VERBOSE as the 2nd argument to re.compile() allow to do?"
   ]
  },
  {
   "cell_type": "markdown",
   "id": "90db5add",
   "metadata": {},
   "source": [
    "The re.VERBOSE argument allows us to add whitespace and comments to the string passed to re.compile()."
   ]
  },
  {
   "cell_type": "markdown",
   "id": "6513bb47",
   "metadata": {},
   "source": [
    "20. How would you write a regex that match a number with comma for every three digits? It must\n",
    "match the given following:\n",
    "'42'\n",
    "'1,234'\n",
    "'6,368,745'\n",
    "but not the following:\n",
    "'12,34,567' (which has only two digits between the commas)\n",
    "'1234' (which lacks commas)"
   ]
  },
  {
   "cell_type": "markdown",
   "id": "97fe97bc",
   "metadata": {},
   "source": [
    "21. How would you write a regex that matches the full name of someone whose last name is\n",
    "Watanabe? You can assume that the first name that comes before it will always be one word that\n",
    "begins with a capital letter. The regex must match the following:\n",
    "'Haruto Watanabe'\n",
    "'Alice Watanabe'\n",
    "'RoboCop Watanabe'\n",
    "but not the following:\n",
    "'haruto Watanabe' (where the first name is not capitalized)\n",
    "'Mr. Watanabe' (where the preceding word has a nonletter character)\n",
    "'Watanabe' (which has no first name)\n",
    "'Haruto watanabe' (where Watanabe is not capitalized)"
   ]
  },
  {
   "cell_type": "markdown",
   "id": "fceefd0b",
   "metadata": {},
   "source": [
    "re.compile(r'^\\d{1,3}(,{3})*$') will create this regex, but other regex strings can produce a similar regular expression."
   ]
  },
  {
   "cell_type": "code",
   "execution_count": 9,
   "id": "bba01092",
   "metadata": {},
   "outputs": [
    {
     "name": "stdout",
     "output_type": "stream",
     "text": [
      "False\n",
      "Satoshi Nakamoto\n"
     ]
    }
   ],
   "source": [
    "import re    \n",
    "\n",
    "NameSearch = re.compile(r'[A-Z][a-z]+\\sNakamoto', re.I | re.VERBOSE)\n",
    "\n",
    "Result = NameSearch.search(\"Satoshi Nakamoto\")\n",
    "\n",
    "print (Result == None)\n",
    "\n",
    "if Result != None:\n",
    "    print (Result.group())"
   ]
  },
  {
   "cell_type": "markdown",
   "id": "743aafc0",
   "metadata": {},
   "source": [
    "22. How would you write a regex that matches a sentence where the first word is either Alice, Bob,\n",
    "or Carol; the second word is either eats, pets, or throws; the third word is apples, cats, or baseballs;\n",
    "and the sentence ends with a period? This regex should be case-insensitive. It must match the\n",
    "following:\n",
    "'Alice eats apples'\n",
    "'Bob pets cats'\n",
    "'Carol throws baseballs'\n",
    "'Alice throws Apples'\n",
    "'BOB EATS CATS'\n",
    "but not the following:\n",
    "'RoboCop eats apples'\n",
    "'ALICE THROWS FOOTBALLS'\n",
    "'Carol eats 7 cats'"
   ]
  },
  {
   "cell_type": "markdown",
   "id": "a000c1df",
   "metadata": {},
   "source": [
    "re.compile(r'(Alice|Bob|Carol)\\s(eats|pets|throws)\\s(apples|cats|baseballs)\\.', re.IGNORECASE)"
   ]
  }
 ],
 "metadata": {
  "kernelspec": {
   "display_name": "Python 3 (ipykernel)",
   "language": "python",
   "name": "python3"
  },
  "language_info": {
   "codemirror_mode": {
    "name": "ipython",
    "version": 3
   },
   "file_extension": ".py",
   "mimetype": "text/x-python",
   "name": "python",
   "nbconvert_exporter": "python",
   "pygments_lexer": "ipython3",
   "version": "3.9.12"
  }
 },
 "nbformat": 4,
 "nbformat_minor": 5
}
