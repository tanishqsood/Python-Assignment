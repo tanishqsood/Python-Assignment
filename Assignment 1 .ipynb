{
 "cells": [
  {
   "cell_type": "markdown",
   "id": "2d8a0c8a",
   "metadata": {},
   "source": [
    "Q1 In the below elements which of them are values or an expression? eg:- values can be\n",
    "integer or string and expressions will be mathematical operators."
   ]
  },
  {
   "cell_type": "markdown",
   "id": "c673e38b",
   "metadata": {},
   "source": [
    "* it is an expression"
   ]
  },
  {
   "cell_type": "code",
   "execution_count": 7,
   "id": "8059cf90",
   "metadata": {},
   "outputs": [
    {
     "data": {
      "text/plain": [
       "str"
      ]
     },
     "execution_count": 7,
     "metadata": {},
     "output_type": "execute_result"
    }
   ],
   "source": [
    "\"hello\"\n",
    "type(\"hello\")"
   ]
  },
  {
   "cell_type": "markdown",
   "id": "6ad9bd1b",
   "metadata": {},
   "source": [
    "hello is a string we can say a value"
   ]
  },
  {
   "cell_type": "markdown",
   "id": "cbda95b3",
   "metadata": {},
   "source": [
    "-87.8. value (integer)\n",
    "- expression \n",
    "/ expression \n",
    "+ expression \n",
    "6 value (integer) \n"
   ]
  },
  {
   "cell_type": "markdown",
   "id": "2b4453fc",
   "metadata": {},
   "source": [
    "Q2 what is the difference between string and variable?\n",
    "String is usually written in double quoatation . For eg a = \"Ford Focus\" \n",
    "Variable we don't require any double qoutation it can just be written normally and saved in the editor. Foe eg a = 10 , b =123 etc "
   ]
  },
  {
   "cell_type": "markdown",
   "id": "b4808b20",
   "metadata": {},
   "source": [
    "q3 describe three data types. \n",
    "List - which are sequencial data type\n",
    "Integeres - Numeric data type \n",
    "Float - Numeric type eg 123.1233\n",
    "Booleans - True or False"
   ]
  },
  {
   "cell_type": "markdown",
   "id": "6041331f",
   "metadata": {},
   "source": [
    "q4 what is an expression made up of ? What do all expressions do ?\n",
    "Expression are made up of variables, mathematical operators & operands which give some value at the end. Eg c = 40-25 \n",
    "the result will be excuted and save with the variable name c = 15 "
   ]
  },
  {
   "cell_type": "markdown",
   "id": "eb2d67cb",
   "metadata": {},
   "source": [
    "q5 This assignment statements, like spam = 10. What is the difference between an\n",
    "expression and a statement?\n",
    "spam = 10 \n",
    "Expression is made up of values, containers, & mathematical operators\n",
    "The statement is like a command that a python interpreter executes like print."
   ]
  },
  {
   "cell_type": "markdown",
   "id": "76d11877",
   "metadata": {},
   "source": [
    "q6. After running the following code, what does the variable bacon contain?\n",
    "bacon = 22\n",
    "bacon + 1\n",
    "ans 23"
   ]
  },
  {
   "cell_type": "code",
   "execution_count": 9,
   "id": "73446667",
   "metadata": {},
   "outputs": [
    {
     "data": {
      "text/plain": [
       "23"
      ]
     },
     "execution_count": 9,
     "metadata": {},
     "output_type": "execute_result"
    }
   ],
   "source": [
    "bacon = 22\n",
    "bacon + 1"
   ]
  },
  {
   "cell_type": "code",
   "execution_count": null,
   "id": "43e45267",
   "metadata": {},
   "outputs": [],
   "source": [
    "q7 What should the values of the following two terms be?\n",
    "'spam'+'spamspam'\n",
    "'spam'*3"
   ]
  },
  {
   "cell_type": "code",
   "execution_count": 11,
   "id": "bf442deb",
   "metadata": {},
   "outputs": [
    {
     "data": {
      "text/plain": [
       "'spamspamspam'"
      ]
     },
     "execution_count": 11,
     "metadata": {},
     "output_type": "execute_result"
    }
   ],
   "source": [
    "'spam'+'spamspam'"
   ]
  },
  {
   "cell_type": "code",
   "execution_count": 12,
   "id": "d5edad29",
   "metadata": {},
   "outputs": [
    {
     "data": {
      "text/plain": [
       "'spamspamspam'"
      ]
     },
     "execution_count": 12,
     "metadata": {},
     "output_type": "execute_result"
    }
   ],
   "source": [
    "'spam'*3"
   ]
  },
  {
   "cell_type": "markdown",
   "id": "7a266160",
   "metadata": {},
   "source": [
    "q8. Why is eggs a valid variable name while 100 is invalid?\n",
    "Because if we give a variable name 100 it will show an error. It is not possible in python to give variable name as integer however we can give variable name as a string eg eggs or string-variable combination eg egg100 or eggs01"
   ]
  },
  {
   "cell_type": "markdown",
   "id": "5baba075",
   "metadata": {},
   "source": [
    "q9. What three functions can be used to get the integer, floating-point number, or string\n",
    "version of a value?\n",
    "for integer expression is - int()\n",
    "for string expression is  - str()\n",
    "for floating point number  expression is - float()"
   ]
  },
  {
   "cell_type": "markdown",
   "id": "28efb1ec",
   "metadata": {},
   "source": [
    "q10 Why does this expression cause an error? How can you fix it?\n",
    "'I have eaten' + 99 + 'burritos.'\n"
   ]
  },
  {
   "cell_type": "code",
   "execution_count": 13,
   "id": "7dc271a8",
   "metadata": {},
   "outputs": [
    {
     "ename": "TypeError",
     "evalue": "can only concatenate str (not \"int\") to str",
     "output_type": "error",
     "traceback": [
      "\u001b[0;31m---------------------------------------------------------------------------\u001b[0m",
      "\u001b[0;31mTypeError\u001b[0m                                 Traceback (most recent call last)",
      "Input \u001b[0;32mIn [13]\u001b[0m, in \u001b[0;36m<cell line: 1>\u001b[0;34m()\u001b[0m\n\u001b[0;32m----> 1\u001b[0m \u001b[38;5;124;43m'\u001b[39;49m\u001b[38;5;124;43mI have eaten\u001b[39;49m\u001b[38;5;124;43m'\u001b[39;49m\u001b[43m \u001b[49m\u001b[38;5;241;43m+\u001b[39;49m\u001b[43m \u001b[49m\u001b[38;5;241;43m99\u001b[39;49m \u001b[38;5;241m+\u001b[39m \u001b[38;5;124m'\u001b[39m\u001b[38;5;124mburritos.\u001b[39m\u001b[38;5;124m'\u001b[39m\n",
      "\u001b[0;31mTypeError\u001b[0m: can only concatenate str (not \"int\") to str"
     ]
    }
   ],
   "source": [
    "'I have eaten' + 99 + 'burritos.'\n"
   ]
  },
  {
   "cell_type": "markdown",
   "id": "d8c0f14c",
   "metadata": {},
   "source": [
    "Ans - because 99 is an integer it cannot be concatenated with strings, if we have to concatenate it we need to do typecasting.\n",
    "TypeError: can only concatenate str (not \"int\") to str"
   ]
  }
 ],
 "metadata": {
  "kernelspec": {
   "display_name": "Python 3 (ipykernel)",
   "language": "python",
   "name": "python3"
  },
  "language_info": {
   "codemirror_mode": {
    "name": "ipython",
    "version": 3
   },
   "file_extension": ".py",
   "mimetype": "text/x-python",
   "name": "python",
   "nbconvert_exporter": "python",
   "pygments_lexer": "ipython3",
   "version": "3.9.12"
  }
 },
 "nbformat": 4,
 "nbformat_minor": 5
}
