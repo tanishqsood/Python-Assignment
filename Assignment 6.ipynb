{
 "cells": [
  {
   "cell_type": "markdown",
   "id": "faab5439",
   "metadata": {},
   "source": [
    "1. What are escape characters, and how do you use them?"
   ]
  },
  {
   "cell_type": "markdown",
   "id": "85832315",
   "metadata": {},
   "source": [
    "example with code first "
   ]
  },
  {
   "cell_type": "code",
   "execution_count": 1,
   "id": "fc452805",
   "metadata": {},
   "outputs": [
    {
     "name": "stdout",
     "output_type": "stream",
     "text": [
      "hey how are you doing these days\n"
     ]
    }
   ],
   "source": [
    "s = \"hey how are you doing these days\"\n",
    "print(s)"
   ]
  },
  {
   "cell_type": "code",
   "execution_count": 3,
   "id": "314a8f2c",
   "metadata": {},
   "outputs": [
    {
     "ename": "SyntaxError",
     "evalue": "invalid syntax (2254544360.py, line 1)",
     "output_type": "error",
     "traceback": [
      "\u001b[0;36m  Input \u001b[0;32mIn [3]\u001b[0;36m\u001b[0m\n\u001b[0;31m    s = 'hey how are you doing these day's ?'\u001b[0m\n\u001b[0m                                         ^\u001b[0m\n\u001b[0;31mSyntaxError\u001b[0m\u001b[0;31m:\u001b[0m invalid syntax\n"
     ]
    }
   ],
   "source": [
    "s = 'hey how are you doing these day's ?'\n",
    "print(s)"
   ]
  },
  {
   "cell_type": "code",
   "execution_count": 4,
   "id": "9aa2ff5d",
   "metadata": {},
   "outputs": [
    {
     "name": "stdout",
     "output_type": "stream",
     "text": [
      "hey how are you doing these day's?\n"
     ]
    }
   ],
   "source": [
    "s = \"hey how are you doing these day\\'s?\"\n",
    "print(s)"
   ]
  },
  {
   "cell_type": "markdown",
   "id": "80737acd",
   "metadata": {},
   "source": [
    "Escape characters represent characters in string values that would otherwise be difficult or impossible to type into code."
   ]
  },
  {
   "cell_type": "markdown",
   "id": "02e59cf2",
   "metadata": {},
   "source": [
    "2. What do the escape characters n and t stand for?"
   ]
  },
  {
   "cell_type": "markdown",
   "id": "817dcd97",
   "metadata": {},
   "source": [
    "\\n is for newline \n",
    "\\t is for tab "
   ]
  },
  {
   "cell_type": "markdown",
   "id": "42a90d75",
   "metadata": {},
   "source": [
    "3. What is the way to include backslash characters in a string?"
   ]
  },
  {
   "cell_type": "markdown",
   "id": "e218e699",
   "metadata": {},
   "source": [
    "\\\\ escape will represent the backlash "
   ]
  },
  {
   "cell_type": "markdown",
   "id": "87901638",
   "metadata": {},
   "source": [
    "4. The string \"Howl's Moving Castle\" is a correct value. Why isn't the single quote character in the\n",
    "word Howl's not escaped a problem?"
   ]
  },
  {
   "cell_type": "code",
   "execution_count": 7,
   "id": "bc27b412",
   "metadata": {},
   "outputs": [
    {
     "name": "stdout",
     "output_type": "stream",
     "text": [
      "Howl's Moving Castle\n"
     ]
    }
   ],
   "source": [
    "s = \"Howl's Moving Castle\"\n",
    "print(s)"
   ]
  },
  {
   "cell_type": "markdown",
   "id": "ee5199c7",
   "metadata": {},
   "source": [
    "because we have added double quotes to write the string and use single quote in Howl's"
   ]
  },
  {
   "cell_type": "markdown",
   "id": "361a032a",
   "metadata": {},
   "source": [
    "5. How do you write a string of newlines if you don't want to use the n character?"
   ]
  },
  {
   "cell_type": "markdown",
   "id": "af6090e4",
   "metadata": {},
   "source": [
    "Multiline string allows us to use to newline without using \\n escape character.\n"
   ]
  },
  {
   "cell_type": "markdown",
   "id": "26095dc7",
   "metadata": {},
   "source": [
    "6. What are the values of the given expressions?\n",
    "'Hello,world!'[1]\n",
    "'Hello,world!'[0:5]\n",
    "'Hello,world!'[:5]\n",
    "'Hello,world!'[3:]"
   ]
  },
  {
   "cell_type": "code",
   "execution_count": 8,
   "id": "c9b1172e",
   "metadata": {},
   "outputs": [],
   "source": [
    "s = \"Hello,world!\""
   ]
  },
  {
   "cell_type": "code",
   "execution_count": 10,
   "id": "5d7929f1",
   "metadata": {},
   "outputs": [
    {
     "data": {
      "text/plain": [
       "'e'"
      ]
     },
     "execution_count": 10,
     "metadata": {},
     "output_type": "execute_result"
    }
   ],
   "source": [
    "s[1]"
   ]
  },
  {
   "cell_type": "code",
   "execution_count": 11,
   "id": "a96d53e1",
   "metadata": {},
   "outputs": [
    {
     "data": {
      "text/plain": [
       "'Hello'"
      ]
     },
     "execution_count": 11,
     "metadata": {},
     "output_type": "execute_result"
    }
   ],
   "source": [
    "s[0:5]"
   ]
  },
  {
   "cell_type": "code",
   "execution_count": 12,
   "id": "c09edce0",
   "metadata": {},
   "outputs": [
    {
     "data": {
      "text/plain": [
       "'Hello'"
      ]
     },
     "execution_count": 12,
     "metadata": {},
     "output_type": "execute_result"
    }
   ],
   "source": [
    "s[:5]"
   ]
  },
  {
   "cell_type": "code",
   "execution_count": 13,
   "id": "6e57305e",
   "metadata": {},
   "outputs": [
    {
     "data": {
      "text/plain": [
       "'lo,world!'"
      ]
     },
     "execution_count": 13,
     "metadata": {},
     "output_type": "execute_result"
    }
   ],
   "source": [
    "s[3:]"
   ]
  },
  {
   "cell_type": "markdown",
   "id": "baf138bc",
   "metadata": {},
   "source": [
    "7. What are the values of the following expressions?"
   ]
  },
  {
   "cell_type": "code",
   "execution_count": 14,
   "id": "144c9ca8",
   "metadata": {},
   "outputs": [
    {
     "data": {
      "text/plain": [
       "'HELLO'"
      ]
     },
     "execution_count": 14,
     "metadata": {},
     "output_type": "execute_result"
    }
   ],
   "source": [
    "\"Hello\".upper()"
   ]
  },
  {
   "cell_type": "code",
   "execution_count": 15,
   "id": "d23c19c5",
   "metadata": {},
   "outputs": [
    {
     "data": {
      "text/plain": [
       "True"
      ]
     },
     "execution_count": 15,
     "metadata": {},
     "output_type": "execute_result"
    }
   ],
   "source": [
    "'Hello'.upper().isupper()"
   ]
  },
  {
   "cell_type": "code",
   "execution_count": 16,
   "id": "9034b6c0",
   "metadata": {},
   "outputs": [
    {
     "data": {
      "text/plain": [
       "'hello'"
      ]
     },
     "execution_count": 16,
     "metadata": {},
     "output_type": "execute_result"
    }
   ],
   "source": [
    "'Hello'.upper().lower()"
   ]
  },
  {
   "cell_type": "markdown",
   "id": "9e61030a",
   "metadata": {},
   "source": [
    "8. What are the values of the following expressions?\n",
    "'Remember,remember,the fifth of July.'.split()\n",
    "'-'.join('There can only one.'.split())"
   ]
  },
  {
   "cell_type": "code",
   "execution_count": 19,
   "id": "e04d1a63",
   "metadata": {},
   "outputs": [
    {
     "data": {
      "text/plain": [
       "['Remember,', 'remember,', 'the', 'fifth', 'of', 'July.']"
      ]
     },
     "execution_count": 19,
     "metadata": {},
     "output_type": "execute_result"
    }
   ],
   "source": [
    "'Remember, remember, the fifth of July.'.split()"
   ]
  },
  {
   "cell_type": "code",
   "execution_count": 18,
   "id": "6681daa3",
   "metadata": {},
   "outputs": [
    {
     "data": {
      "text/plain": [
       "'There-can-only-one.'"
      ]
     },
     "execution_count": 18,
     "metadata": {},
     "output_type": "execute_result"
    }
   ],
   "source": [
    "'-'.join('There can only one.'.split())"
   ]
  },
  {
   "cell_type": "markdown",
   "id": "4037e0c7",
   "metadata": {},
   "source": [
    "9. What are the methods for right-justifying, left-justifying, and centering a string?"
   ]
  },
  {
   "cell_type": "markdown",
   "id": "004bce10",
   "metadata": {},
   "source": [
    "rjust(), ljust(), center() three methods."
   ]
  },
  {
   "cell_type": "markdown",
   "id": "c8035351",
   "metadata": {},
   "source": [
    "10. What is the best way to remove whitespace characters from the start or end?"
   ]
  },
  {
   "cell_type": "code",
   "execution_count": null,
   "id": "49c07729",
   "metadata": {},
   "outputs": [],
   "source": [
    "lstripp()"
   ]
  }
 ],
 "metadata": {
  "kernelspec": {
   "display_name": "Python 3 (ipykernel)",
   "language": "python",
   "name": "python3"
  },
  "language_info": {
   "codemirror_mode": {
    "name": "ipython",
    "version": 3
   },
   "file_extension": ".py",
   "mimetype": "text/x-python",
   "name": "python",
   "nbconvert_exporter": "python",
   "pygments_lexer": "ipython3",
   "version": "3.9.12"
  }
 },
 "nbformat": 4,
 "nbformat_minor": 5
}
