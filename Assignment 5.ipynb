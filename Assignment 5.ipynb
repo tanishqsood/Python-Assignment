{
 "cells": [
  {
   "cell_type": "markdown",
   "id": "65fef9d7",
   "metadata": {},
   "source": [
    "1. What does an empty dictionary&#39;s code look like?"
   ]
  },
  {
   "cell_type": "code",
   "execution_count": null,
   "id": "2b46335d",
   "metadata": {},
   "outputs": [],
   "source": [
    "empty_dict = {}"
   ]
  },
  {
   "cell_type": "markdown",
   "id": "7941db33",
   "metadata": {},
   "source": [
    "2. What is the value of a dictionary value with the key 'foo' and the value 42?"
   ]
  },
  {
   "cell_type": "code",
   "execution_count": null,
   "id": "780c9ee9",
   "metadata": {},
   "outputs": [],
   "source": [
    "dictionary = {\"foo\":42}"
   ]
  },
  {
   "cell_type": "markdown",
   "id": "2fc4afc7",
   "metadata": {},
   "source": [
    "3. What is the most significant distinction between a dictionary and a list?"
   ]
  },
  {
   "cell_type": "markdown",
   "id": "e8bb268e",
   "metadata": {},
   "source": [
    "List - They are quoted in square brackets []. list are ordered, mutable and allow duplicates. Whereas dict is quoted in curly brackets {}, dict is ordered, mutable, but don't allow duplicates (values with same keys)"
   ]
  },
  {
   "cell_type": "markdown",
   "id": "6029cbc2",
   "metadata": {},
   "source": [
    "4. What happens if you try to access spam['foo'] if spam is {'bar': 100}?"
   ]
  },
  {
   "cell_type": "markdown",
   "id": "b1349bb6",
   "metadata": {},
   "source": [
    "In the above question key value \"foo\" is not defined so programm won't run. It will give us key error."
   ]
  },
  {
   "cell_type": "markdown",
   "id": "859af486",
   "metadata": {},
   "source": [
    "5. If a dictionary is stored in spam, what is the difference between the expressions 'cat' in spam and\n",
    "'cat' in spam.keys()?"
   ]
  },
  {
   "cell_type": "code",
   "execution_count": 2,
   "id": "1def1a67",
   "metadata": {},
   "outputs": [
    {
     "data": {
      "text/plain": [
       "True"
      ]
     },
     "execution_count": 2,
     "metadata": {},
     "output_type": "execute_result"
    }
   ],
   "source": [
    "spam ={'cat':10012}\n",
    "'cat' in spam\n",
    "\n",
    "###There is no difference. The in operator checks whether a value exists as a key in the dictionary."
   ]
  },
  {
   "cell_type": "markdown",
   "id": "c2e0518a",
   "metadata": {},
   "source": [
    "6. If a dictionary is stored in spam, what is the difference between the expressions 'cat' in spam and\n",
    "'cat' in spam.values()?"
   ]
  },
  {
   "cell_type": "markdown",
   "id": "f4ec7ddc",
   "metadata": {},
   "source": [
    "'cat' in spam checks whether there is a 'cat' key in the dictionary, while 'cat' in spam.values() checks whether there is a value 'cat' for one of the keys in spam."
   ]
  },
  {
   "cell_type": "markdown",
   "id": "699e24b8",
   "metadata": {},
   "source": [
    "7. What is a shortcut for the following code?\n",
    "if \"\"color\" not in spam:\n",
    "spam[\"color\"] = \"black\""
   ]
  },
  {
   "cell_type": "code",
   "execution_count": 3,
   "id": "bc756194",
   "metadata": {},
   "outputs": [
    {
     "data": {
      "text/plain": [
       "'black'"
      ]
     },
     "execution_count": 3,
     "metadata": {},
     "output_type": "execute_result"
    }
   ],
   "source": [
    "spam.setdefault('color', 'black')"
   ]
  },
  {
   "cell_type": "markdown",
   "id": "61946c27",
   "metadata": {},
   "source": [
    "8. How do you \"prettyprint\" dictionary values using which module and function?"
   ]
  },
  {
   "cell_type": "code",
   "execution_count": 6,
   "id": "4d26195f",
   "metadata": {},
   "outputs": [],
   "source": [
    "import pprint\n",
    "dict = [{\"Name\":\"ABC\", \"Address\":\"XYZ\", \"PLZ\":1234, \"Country\":\"India\"},\n",
    "        {\"name\":\"xyz\", \"address\":\"werse\",\"plZ\": 43223, \"Country\":\"NZ\" }]"
   ]
  },
  {
   "cell_type": "code",
   "execution_count": 7,
   "id": "6f53deb7",
   "metadata": {},
   "outputs": [
    {
     "name": "stdout",
     "output_type": "stream",
     "text": [
      "[{'Address': 'XYZ', 'Country': 'India', 'Name': 'ABC', 'PLZ': 1234},\n",
      " {'Country': 'NZ', 'address': 'werse', 'name': 'xyz', 'plZ': 43223}]\n"
     ]
    }
   ],
   "source": [
    "pprint.pprint(dict)\n"
   ]
  },
  {
   "cell_type": "code",
   "execution_count": 8,
   "id": "99233abf",
   "metadata": {},
   "outputs": [
    {
     "name": "stdout",
     "output_type": "stream",
     "text": [
      "[{'Name': 'ABC', 'Address': 'XYZ', 'PLZ': 1234, 'Country': 'India'}, {'name': 'xyz', 'address': 'werse', 'plZ': 43223, 'Country': 'NZ'}]\n"
     ]
    }
   ],
   "source": [
    "print(dict)"
   ]
  }
 ],
 "metadata": {
  "kernelspec": {
   "display_name": "Python 3 (ipykernel)",
   "language": "python",
   "name": "python3"
  },
  "language_info": {
   "codemirror_mode": {
    "name": "ipython",
    "version": 3
   },
   "file_extension": ".py",
   "mimetype": "text/x-python",
   "name": "python",
   "nbconvert_exporter": "python",
   "pygments_lexer": "ipython3",
   "version": "3.9.12"
  }
 },
 "nbformat": 4,
 "nbformat_minor": 5
}
